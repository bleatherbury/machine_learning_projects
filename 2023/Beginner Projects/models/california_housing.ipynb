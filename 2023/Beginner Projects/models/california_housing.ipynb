{
 "cells": [
  {
   "cell_type": "code",
   "execution_count": 108,
   "id": "96450cda",
   "metadata": {},
   "outputs": [
    {
     "name": "stdout",
     "output_type": "stream",
     "text": [
      "(20640, 8)\n"
     ]
    }
   ],
   "source": [
    "from sklearn.datasets import fetch_california_housing\n",
    "from sklearn.metrics import mean_squared_error, r2_score\n",
    "from sklearn.ensemble import RandomForestRegressor\n",
    "from sklearn.model_selection import train_test_split\n",
    "from sklearn.linear_model import LinearRegression\n",
    "from sklearn.linear_model import Ridge\n",
    "from sklearn.preprocessing import PolynomialFeatures\n",
    "from sklearn.ensemble import GradientBoostingRegressor\n",
    "from sklearn.ensemble import ExtraTreesRegressor\n",
    "import matplotlib.pyplot as plt\n",
    "import pandas as pd\n",
    "import numpy as np\n",
    "\n",
    "# Load the California Housing Dataset\n",
    "house_data = fetch_california_housing()\n",
    "\n",
    "# Extract the feature data (X) and target values (y)\n",
    "X = house_data.data\n",
    "y = house_data.target\n",
    "\n",
    "# Check the shape of the data\n",
    "print(house_data.data.shape)"
   ]
  },
  {
   "cell_type": "code",
   "execution_count": 63,
   "id": "0f6e23e3",
   "metadata": {},
   "outputs": [],
   "source": [
    "# Setup a DataFrame\n",
    "house_df = pd.DataFrame(data=X, columns=house_data.feature_names)\n",
    "house_df['target'] = y"
   ]
  },
  {
   "cell_type": "code",
   "execution_count": 64,
   "id": "7b11009d",
   "metadata": {},
   "outputs": [
    {
     "data": {
      "text/html": [
       "<div>\n",
       "<style scoped>\n",
       "    .dataframe tbody tr th:only-of-type {\n",
       "        vertical-align: middle;\n",
       "    }\n",
       "\n",
       "    .dataframe tbody tr th {\n",
       "        vertical-align: top;\n",
       "    }\n",
       "\n",
       "    .dataframe thead th {\n",
       "        text-align: right;\n",
       "    }\n",
       "</style>\n",
       "<table border=\"1\" class=\"dataframe\">\n",
       "  <thead>\n",
       "    <tr style=\"text-align: right;\">\n",
       "      <th></th>\n",
       "      <th>MedInc</th>\n",
       "      <th>HouseAge</th>\n",
       "      <th>AveRooms</th>\n",
       "      <th>AveBedrms</th>\n",
       "      <th>Population</th>\n",
       "      <th>AveOccup</th>\n",
       "      <th>Latitude</th>\n",
       "      <th>Longitude</th>\n",
       "      <th>target</th>\n",
       "    </tr>\n",
       "  </thead>\n",
       "  <tbody>\n",
       "    <tr>\n",
       "      <th>0</th>\n",
       "      <td>8.3252</td>\n",
       "      <td>41.0</td>\n",
       "      <td>6.984127</td>\n",
       "      <td>1.023810</td>\n",
       "      <td>322.0</td>\n",
       "      <td>2.555556</td>\n",
       "      <td>37.88</td>\n",
       "      <td>-122.23</td>\n",
       "      <td>4.526</td>\n",
       "    </tr>\n",
       "    <tr>\n",
       "      <th>1</th>\n",
       "      <td>8.3014</td>\n",
       "      <td>21.0</td>\n",
       "      <td>6.238137</td>\n",
       "      <td>0.971880</td>\n",
       "      <td>2401.0</td>\n",
       "      <td>2.109842</td>\n",
       "      <td>37.86</td>\n",
       "      <td>-122.22</td>\n",
       "      <td>3.585</td>\n",
       "    </tr>\n",
       "    <tr>\n",
       "      <th>2</th>\n",
       "      <td>7.2574</td>\n",
       "      <td>52.0</td>\n",
       "      <td>8.288136</td>\n",
       "      <td>1.073446</td>\n",
       "      <td>496.0</td>\n",
       "      <td>2.802260</td>\n",
       "      <td>37.85</td>\n",
       "      <td>-122.24</td>\n",
       "      <td>3.521</td>\n",
       "    </tr>\n",
       "    <tr>\n",
       "      <th>3</th>\n",
       "      <td>5.6431</td>\n",
       "      <td>52.0</td>\n",
       "      <td>5.817352</td>\n",
       "      <td>1.073059</td>\n",
       "      <td>558.0</td>\n",
       "      <td>2.547945</td>\n",
       "      <td>37.85</td>\n",
       "      <td>-122.25</td>\n",
       "      <td>3.413</td>\n",
       "    </tr>\n",
       "    <tr>\n",
       "      <th>4</th>\n",
       "      <td>3.8462</td>\n",
       "      <td>52.0</td>\n",
       "      <td>6.281853</td>\n",
       "      <td>1.081081</td>\n",
       "      <td>565.0</td>\n",
       "      <td>2.181467</td>\n",
       "      <td>37.85</td>\n",
       "      <td>-122.25</td>\n",
       "      <td>3.422</td>\n",
       "    </tr>\n",
       "  </tbody>\n",
       "</table>\n",
       "</div>"
      ],
      "text/plain": [
       "   MedInc  HouseAge  AveRooms  AveBedrms  Population  AveOccup  Latitude  \\\n",
       "0  8.3252      41.0  6.984127   1.023810       322.0  2.555556     37.88   \n",
       "1  8.3014      21.0  6.238137   0.971880      2401.0  2.109842     37.86   \n",
       "2  7.2574      52.0  8.288136   1.073446       496.0  2.802260     37.85   \n",
       "3  5.6431      52.0  5.817352   1.073059       558.0  2.547945     37.85   \n",
       "4  3.8462      52.0  6.281853   1.081081       565.0  2.181467     37.85   \n",
       "\n",
       "   Longitude  target  \n",
       "0    -122.23   4.526  \n",
       "1    -122.22   3.585  \n",
       "2    -122.24   3.521  \n",
       "3    -122.25   3.413  \n",
       "4    -122.25   3.422  "
      ]
     },
     "execution_count": 64,
     "metadata": {},
     "output_type": "execute_result"
    }
   ],
   "source": [
    "house_df.head()"
   ]
  },
  {
   "cell_type": "code",
   "execution_count": 65,
   "id": "d44879c9",
   "metadata": {},
   "outputs": [],
   "source": [
    "# Split the data into training and test sets (80% training, 20% testing)\n",
    "X_train, X_test, y_train, y_test = train_test_split(X, y, test_size=0.2, random_state=42)"
   ]
  },
  {
   "cell_type": "code",
   "execution_count": 66,
   "id": "9fa1933a",
   "metadata": {},
   "outputs": [
    {
     "name": "stdout",
     "output_type": "stream",
     "text": [
      "Correlation with MedHouseVal:\n",
      "MedHouseVal    1.000000\n",
      "MedInc         0.690647\n",
      "AveRooms       0.158485\n",
      "HouseAge       0.103706\n",
      "AveOccup      -0.022030\n",
      "Population    -0.026032\n",
      "Longitude     -0.046349\n",
      "AveBedrms     -0.051351\n",
      "Latitude      -0.142983\n",
      "Name: MedHouseVal, dtype: float64\n"
     ]
    }
   ],
   "source": [
    "# Create a DataFrame for the training set with feature names as column headers\n",
    "df_train = pd.DataFrame(X_train, columns=data.feature_names)\n",
    "\n",
    "# Add the target variable 'MedHouseVal' to the DataFrame\n",
    "df_train['MedHouseVal'] = y_train\n",
    "\n",
    "# Compute the correlation matrix\n",
    "correlation_matrix = df_train.corr()\n",
    "\n",
    "# Print the correlation between 'MedHouseVal' and all the other variables\n",
    "print(\"Correlation with MedHouseVal:\")\n",
    "print(correlation_matrix['MedHouseVal'].sort_values(ascending=False))"
   ]
  },
  {
   "cell_type": "code",
   "execution_count": 67,
   "id": "8e77aba0",
   "metadata": {},
   "outputs": [
    {
     "name": "stdout",
     "output_type": "stream",
     "text": [
      "Missing Data in the Training Set:\n",
      "MedInc         0\n",
      "HouseAge       0\n",
      "AveRooms       0\n",
      "AveBedrms      0\n",
      "Population     0\n",
      "AveOccup       0\n",
      "Latitude       0\n",
      "Longitude      0\n",
      "MedHouseVal    0\n",
      "dtype: int64\n"
     ]
    }
   ],
   "source": [
    "# Check for missing data in the training set\n",
    "missing_data = df_train.isnull().sum()\n",
    "\n",
    "# Print the number of missing values for each feature\n",
    "print(\"Missing Data in the Training Set:\")\n",
    "print(missing_data)"
   ]
  },
  {
   "cell_type": "code",
   "execution_count": 68,
   "id": "39e9c8b4",
   "metadata": {},
   "outputs": [
    {
     "data": {
      "image/png": "[encoded data removed]",
      "text/plain": [
       "<Figure size 640x480 with 1 Axes>"
      ]
     },
     "metadata": {},
     "output_type": "display_data"
    }
   ],
   "source": [
    "# Get the index of 'MedInc' in the feature_names list\n",
    "medinc_index = data.feature_names.index('MedInc')\n",
    "\n",
    "# Use only the 'MedInc' feature (median income) for training\n",
    "X_train_medinc = X_train[:, np.newaxis, medinc_index]\n",
    "X_test_medinc = X_test[:, np.newaxis, medinc_index]\n",
    "\n",
    "# Create a Linear Regression model\n",
    "model = LinearRegression()\n",
    "\n",
    "# Train the model on the median income data\n",
    "model.fit(X_train_medinc, y_train)\n",
    "\n",
    "# Predict the house prices using the test data\n",
    "y_pred = model.predict(X_test_medinc)\n",
    "\n",
    "# Plot the actual house prices vs. predicted prices\n",
    "plt.scatter(X_test_medinc, y_test, color='blue', label='Actual Prices')\n",
    "plt.plot(X_test_medinc, y_pred, color='red', linewidth=2, label='Predicted Prices')\n",
    "plt.xlabel('Median Income')\n",
    "plt.ylabel('Median House Value')\n",
    "plt.legend(loc='upper left')\n",
    "plt.title('Predicted vs. Actual House Prices')\n",
    "plt.show()"
   ]
  },
  {
   "cell_type": "code",
   "execution_count": 69,
   "id": "ed52f989",
   "metadata": {},
   "outputs": [],
   "source": [
    "# Create a DataFrame to display the predicted and actual house prices\n",
    "df_results = pd.DataFrame({'Actual House Price': y_test, 'Predicted House Price': y_pred.flatten()})"
   ]
  },
  {
   "cell_type": "code",
   "execution_count": 70,
   "id": "9cb37f3b",
   "metadata": {},
   "outputs": [
    {
     "name": "stdout",
     "output_type": "stream",
     "text": [
      "      Actual House Price  Predicted House Price\n",
      "0                0.47700               1.149589\n",
      "1                0.45800               1.506069\n",
      "2                5.00001               1.903937\n",
      "3                2.18600               2.850594\n",
      "4                2.78000               2.006633\n",
      "...                  ...                    ...\n",
      "4123             2.63300               2.375651\n",
      "4124             2.66800               1.587966\n",
      "4125             5.00001               4.315008\n",
      "4126             0.72300               1.612455\n",
      "4127             1.51500               1.934130\n",
      "\n",
      "[4128 rows x 2 columns]\n"
     ]
    }
   ],
   "source": [
    "# Display the table\n",
    "print(df_results)"
   ]
  },
  {
   "cell_type": "code",
   "execution_count": 71,
   "id": "fca81612",
   "metadata": {},
   "outputs": [
    {
     "name": "stdout",
     "output_type": "stream",
     "text": [
      "Percentage R-squared (R2): 45.88591890384666 %\n"
     ]
    }
   ],
   "source": [
    "# Calculate the R-squared (R2) score\n",
    "r2 = r2_score(y_test, y_pred)\n",
    "\n",
    "# Convert R-squared (R2) to percentage\n",
    "percentage_r2 = r2 * 100\n",
    "\n",
    "print(\"Percentage R-squared (R2):\", percentage_r2, \"%\")"
   ]
  },
  {
   "cell_type": "markdown",
   "id": "7fff6c0d",
   "metadata": {},
   "source": [
    "## Attempt polynomial features to improve model"
   ]
  },
  {
   "cell_type": "code",
   "execution_count": 72,
   "id": "9c5ca99d",
   "metadata": {},
   "outputs": [
    {
     "name": "stdout",
     "output_type": "stream",
     "text": [
      "R-squared (R2) score with Ridge Regression: 0.46331776418615545\n"
     ]
    }
   ],
   "source": [
    "# Create polynomial features (e.g., up to 2nd-degree polynomial)\n",
    "poly = PolynomialFeatures(degree=2)\n",
    "X_train_poly = poly.fit_transform(X_train_medinc)\n",
    "X_test_poly = poly.transform(X_test_medinc)\n",
    "\n",
    "# Create a Ridge Regression model with alpha (L2 regularization strength)\n",
    "alpha = 0.1  # You can experiment with different alpha values\n",
    "ridge_model = Ridge(alpha=alpha)\n",
    "\n",
    "# Train the Ridge model on the polynomial features\n",
    "ridge_model.fit(X_train_poly, y_train)\n",
    "\n",
    "# Predict the house prices using the test data and polynomial features\n",
    "y_pred = ridge_model.predict(X_test_poly)\n",
    "\n",
    "# Calculate the R-squared (R2) score for the Ridge model\n",
    "r2 = r2_score(y_test, y_pred)\n",
    "print(\"R-squared (R2) score with Ridge Regression:\", r2)"
   ]
  },
  {
   "cell_type": "markdown",
   "id": "d3068a47",
   "metadata": {},
   "source": [
    "## Random Foerst Regression Model"
   ]
  },
  {
   "cell_type": "code",
   "execution_count": 94,
   "id": "901a2868",
   "metadata": {},
   "outputs": [
    {
     "name": "stdout",
     "output_type": "stream",
     "text": [
      "Root Mean Squared Error (RMSE) with Random Forest: 0.5053399773665033\n",
      "R-squared (R2) score with Random Forest: 0.8051230593157366\n"
     ]
    }
   ],
   "source": [
    "# Create a Random Forest Regression model\n",
    "rf_model = RandomForestRegressor(n_estimators=100, random_state=42)\n",
    "\n",
    "# Train the model on the training data\n",
    "rf_model.fit(X_train, y_train)\n",
    "\n",
    "# Predict the house prices using the test data\n",
    "y_pred = rf_model.predict(X_test)\n",
    "\n",
    "# Calculate the Root Mean Squared Error (RMSE)\n",
    "rmse = np.sqrt(mean_squared_error(y_test, y_pred))\n",
    "\n",
    "# Calculate the R-squared (R2) score\n",
    "r2 = r2_score(y_test, y_pred)\n",
    "\n",
    "print(\"Root Mean Squared Error (RMSE) with Random Forest:\", rmse)\n",
    "print(\"R-squared (R2) score with Random Forest:\", r2)"
   ]
  },
  {
   "cell_type": "markdown",
   "id": "6b4cd22a",
   "metadata": {},
   "source": [
    "## Gradient Boosting Regression Model"
   ]
  },
  {
   "cell_type": "code",
   "execution_count": 106,
   "id": "4bbebe19",
   "metadata": {},
   "outputs": [
    {
     "name": "stdout",
     "output_type": "stream",
     "text": [
      "Root Mean Squared Error (RMSE) with Gradient Boosting: 0.4869382714187052\n",
      "R-squared (R2) score with Gradient Boosting: 0.8190573446081444\n"
     ]
    }
   ],
   "source": [
    "# Create a Gradient Boosting Regression model\n",
    "gb_model = GradientBoostingRegressor(n_estimators=170, learning_rate=0.5, random_state=42)\n",
    "\n",
    "# Train the model on the training data\n",
    "gb_model.fit(X_train, y_train)\n",
    "\n",
    "# Predict the house prices using the test data\n",
    "y_pred = gb_model.predict(X_test)\n",
    "\n",
    "# Calculate the Root Mean Squared Error (RMSE)\n",
    "rmse = np.sqrt(mean_squared_error(y_test, y_pred))\n",
    "\n",
    "# Calculate the R-squared (R2) score\n",
    "r2 = r2_score(y_test, y_pred)\n",
    "\n",
    "print(\"Root Mean Squared Error (RMSE) with Gradient Boosting:\", rmse)\n",
    "print(\"R-squared (R2) score with Gradient Boosting:\", r2)"
   ]
  },
  {
   "cell_type": "markdown",
   "id": "c7eba7c9",
   "metadata": {},
   "source": [
    "## Extra Trees Regressor"
   ]
  },
  {
   "cell_type": "code",
   "execution_count": 112,
   "id": "cfca4126",
   "metadata": {},
   "outputs": [
    {
     "name": "stdout",
     "output_type": "stream",
     "text": [
      "Root Mean Squared Error (RMSE) with Extra Trees Regressor: 0.5038885341799166\n",
      "R-squared (R2) score with Extra Trees Regressor: 0.8062409071564614\n"
     ]
    }
   ],
   "source": [
    "# Create an Extra Trees Regressor model\n",
    "extra_trees_model = ExtraTreesRegressor(n_estimators=100, random_state=42)\n",
    "\n",
    "# Train the model on the training data\n",
    "extra_trees_model.fit(X_train, y_train)\n",
    "\n",
    "# Predict the house prices using the test data\n",
    "y_pred = extra_trees_model.predict(X_test)\n",
    "\n",
    "# Calculate the Root Mean Squared Error (RMSE)\n",
    "rmse = np.sqrt(mean_squared_error(y_test, y_pred))\n",
    "\n",
    "# Calculate the R-squared (R2) score\n",
    "r2 = r2_score(y_test, y_pred)\n",
    "\n",
    "print(\"Root Mean Squared Error (RMSE) with Extra Trees Regressor:\", rmse)\n",
    "print(\"R-squared (R2) score with Extra Trees Regressor:\", r2)"
   ]
  },
  {
   "cell_type": "code",
   "execution_count": null,
   "id": "019cb030",
   "metadata": {},
   "outputs": [],
   "source": []
  }
 ],
 "metadata": {
  "kernelspec": {
   "display_name": "Python 3 (ipykernel)",
   "language": "python",
   "name": "python3"
  },
  "language_info": {
   "codemirror_mode": {
    "name": "ipython",
    "version": 3
   },
   "file_extension": ".py",
   "mimetype": "text/x-python",
   "name": "python",
   "nbconvert_exporter": "python",
   "pygments_lexer": "ipython3",
   "version": "3.9.13"
  }
 },
 "nbformat": 4,
 "nbformat_minor": 5
}
