{
 "cells": [
  {
   "cell_type": "code",
   "execution_count": 9,
   "id": "1a2b8078-43ee-4fed-820f-02b5e0199aad",
   "metadata": {},
   "outputs": [
    {
     "name": "stdout",
     "output_type": "stream",
     "text": [
      "Press 0 or 1 (or any other key to quit): \n"
     ]
    },
    {
     "name": "stdout",
     "output_type": "stream",
     "text": [
      " 0\n"
     ]
    },
    {
     "name": "stdout",
     "output_type": "stream",
     "text": [
      "Predicted Button: 0\n",
      "Prediction Accuracy: 0.00\n",
      "Button Clicks: [1. 0.]\n",
      "\n",
      "Press 0 or 1 (or any other key to quit): \n"
     ]
    },
    {
     "name": "stdout",
     "output_type": "stream",
     "text": [
      " 1\n"
     ]
    },
    {
     "name": "stdout",
     "output_type": "stream",
     "text": [
      "Predicted Button: 1\n",
      "Prediction Accuracy: 0.00\n",
      "Button Clicks: [1. 1.]\n",
      "\n",
      "Press 0 or 1 (or any other key to quit): \n"
     ]
    },
    {
     "name": "stdout",
     "output_type": "stream",
     "text": [
      " 1\n"
     ]
    },
    {
     "name": "stdout",
     "output_type": "stream",
     "text": [
      "Predicted Button: 0\n",
      "Prediction Accuracy: 0.00\n",
      "Button Clicks: [1. 2.]\n",
      "\n",
      "Press 0 or 1 (or any other key to quit): \n"
     ]
    },
    {
     "name": "stdout",
     "output_type": "stream",
     "text": [
      " 1\n"
     ]
    },
    {
     "name": "stdout",
     "output_type": "stream",
     "text": [
      "Predicted Button: 0\n",
      "Prediction Accuracy: 0.00\n",
      "Button Clicks: [1. 3.]\n",
      "\n",
      "Press 0 or 1 (or any other key to quit): \n"
     ]
    },
    {
     "name": "stdout",
     "output_type": "stream",
     "text": [
      " 0\n"
     ]
    },
    {
     "name": "stdout",
     "output_type": "stream",
     "text": [
      "Predicted Button: 1\n",
      "Prediction Accuracy: 0.75\n",
      "Button Clicks: [2. 3.]\n",
      "\n",
      "Press 0 or 1 (or any other key to quit): \n"
     ]
    },
    {
     "name": "stdout",
     "output_type": "stream",
     "text": [
      " 0\n"
     ]
    },
    {
     "name": "stdout",
     "output_type": "stream",
     "text": [
      "Predicted Button: 1\n",
      "Prediction Accuracy: 0.60\n",
      "Button Clicks: [3. 3.]\n",
      "\n",
      "Press 0 or 1 (or any other key to quit): \n"
     ]
    },
    {
     "name": "stdout",
     "output_type": "stream",
     "text": [
      " 0\n"
     ]
    },
    {
     "name": "stdout",
     "output_type": "stream",
     "text": [
      "Predicted Button: 0\n",
      "Prediction Accuracy: 0.67\n",
      "Button Clicks: [4. 3.]\n",
      "\n",
      "Press 0 or 1 (or any other key to quit): \n"
     ]
    },
    {
     "name": "stdout",
     "output_type": "stream",
     "text": [
      " 0\n"
     ]
    },
    {
     "name": "stdout",
     "output_type": "stream",
     "text": [
      "Predicted Button: 0\n",
      "Prediction Accuracy: 0.57\n",
      "Button Clicks: [5. 3.]\n",
      "\n",
      "Press 0 or 1 (or any other key to quit): \n"
     ]
    },
    {
     "name": "stdout",
     "output_type": "stream",
     "text": [
      " 1\n"
     ]
    },
    {
     "name": "stdout",
     "output_type": "stream",
     "text": [
      "Predicted Button: 1\n",
      "Prediction Accuracy: 0.62\n",
      "Button Clicks: [5. 4.]\n",
      "\n",
      "Press 0 or 1 (or any other key to quit): \n"
     ]
    },
    {
     "name": "stdout",
     "output_type": "stream",
     "text": [
      " 0\n"
     ]
    },
    {
     "name": "stdout",
     "output_type": "stream",
     "text": [
      "Predicted Button: 0\n",
      "Prediction Accuracy: 0.56\n",
      "Button Clicks: [6. 4.]\n",
      "\n",
      "Press 0 or 1 (or any other key to quit): \n"
     ]
    },
    {
     "name": "stdout",
     "output_type": "stream",
     "text": [
      " 1\n"
     ]
    },
    {
     "name": "stdout",
     "output_type": "stream",
     "text": [
      "Predicted Button: 0\n",
      "Prediction Accuracy: 0.50\n",
      "Button Clicks: [6. 5.]\n",
      "\n",
      "Press 0 or 1 (or any other key to quit): \n"
     ]
    },
    {
     "name": "stdout",
     "output_type": "stream",
     "text": [
      " f\n"
     ]
    }
   ],
   "source": [
    "import numpy as np\n",
    "from sklearn.linear_model import LogisticRegression\n",
    "from sklearn.metrics import accuracy_score\n",
    "\n",
    "class ButtonClickPredictor:\n",
    "    def __init__(self, num_buttons=2):\n",
    "        self.num_buttons = num_buttons\n",
    "        self.button_clicks = np.zeros(num_buttons)\n",
    "        self.clicks_history = []\n",
    "        self.model = LogisticRegression()\n",
    "        self.is_model_trained = False\n",
    "\n",
    "    def record_button_click(self, button_index):\n",
    "        self.button_clicks[button_index] += 1\n",
    "        self.clicks_history.append(button_index)\n",
    "\n",
    "    def train_model(self):\n",
    "        if len(self.clicks_history) > 1:\n",
    "            X, y = self._prepare_data()\n",
    "            unique_classes = np.unique(y)\n",
    "            if len(unique_classes) > 1:  # Check if there are at least two classes in the data\n",
    "                self.model.fit(X, y)\n",
    "                self.is_model_trained = True\n",
    "\n",
    "    def predict_button(self):\n",
    "        if len(self.clicks_history) < 1:\n",
    "            return np.random.randint(self.num_buttons)\n",
    "\n",
    "        last_click = np.array(self.clicks_history[-1]).reshape(1, -1)\n",
    "\n",
    "        if self.is_model_trained:\n",
    "            predicted_button = self.model.predict(last_click\n",
    "        else:\n",
    "            # If the model is not trained yet, return a random prediction\n",
    "            predicted_button = np.random.randint(self.num_buttons)\n",
    "\n",
    "        return int(predicted_button)\n",
    "\n",
    "    def _prepare_data(self):\n",
    "        clicks = np.array(self.clicks_history).reshape(-1, 1)\n",
    "        y = np.roll(clicks, -1)[:-1]  # Shift clicks by one to predict the next \n",
    "        X = clicks[:-1]\n",
    "        y = y.ravel()  # Flatten y to make it a 1D array\n",
    "        return X, y\n",
    "\n",
    "    def get_accuracy(self):\n",
    "        if len(self.clicks_history) < 2:\n",
    "            return 0.0\n",
    "\n",
    "        X, y = self._prepare_data()\n",
    "        unique_classes = np.unique(y)\n",
    "        if len(unique_classes) > 1:  # Check if there are at least two classes in the data\n",
    "            predictions = self.model.predict(X)\n",
    "            return accuracy_score(y, predictions)\n",
    "        else:\n",
    "            return 0.0\n",
    "\n",
    "\n",
    "def main():\n",
    "    predictor = ButtonClickPredictor()\n",
    "\n",
    "    while True:\n",
    "        print(\"Press 0 or 1 (or any other key to quit): \")\n",
    "        user_input = input()\n",
    "        if user_input not in ['0', '1']:\n",
    "            break\n",
    "\n",
    "        button_index = int(user_input)\n",
    "        predictor.record_button_click(button_index)\n",
    "        predictor.train_model()\n",
    "\n",
    "        predicted_button = predictor.predict_button()\n",
    "        accuracy = predictor.get_accuracy()\n",
    "\n",
    "        print(f\"Predicted Button: {predicted_button}\")\n",
    "        print(f\"Prediction Accuracy: {accuracy:.2f}\")\n",
    "        print(\"Button Clicks:\", predictor.button_clicks)\n",
    "        print()\n",
    "\n",
    "\n",
    "if __name__ == \"__main__\":\n",
    "    main()"
   ]
  },
  {
   "cell_type": "code",
   "execution_count": null,
   "id": "41ac24df-b395-4a1b-b2c8-07dd0c682e1d",
   "metadata": {},
   "outputs": [],
   "source": []
  }
 ],
 "metadata": {
  "kernelspec": {
   "display_name": "Python 3 (ipykernel)",
   "language": "python",
   "name": "python3"
  },
  "language_info": {
   "codemirror_mode": {
    "name": "ipython",
    "version": 3
   },
   "file_extension": ".py",
   "mimetype": "text/x-python",
   "name": "python",
   "nbconvert_exporter": "python",
   "pygments_lexer": "ipython3",
   "version": "3.11.4"
  }
 },
 "nbformat": 4,
 "nbformat_minor": 5
}
