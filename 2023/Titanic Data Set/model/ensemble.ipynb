{
 "cells": [
  {
   "cell_type": "code",
   "execution_count": 4,
   "id": "12b9386b-2d88-4143-bb28-de1d9d4bed19",
   "metadata": {},
   "outputs": [],
   "source": [
    "import pandas as pd\n",
    "import numpy as np\n",
    "from sklearn.model_selection import train_test_split\n",
    "from sklearn.preprocessing import LabelEncoder, StandardScaler\n",
    "from sklearn.linear_model import LogisticRegression\n",
    "from sklearn.ensemble import RandomForestClassifier, VotingClassifier, StackingClassifier\n",
    "from sklearn.svm import SVC\n",
    "from xgboost import XGBClassifier\n",
    "\n",
    "# Load the training data from train.csv\n",
    "train_data = pd.read_csv('train.csv')"
   ]
  },
  {
   "cell_type": "code",
   "execution_count": 5,
   "id": "79b053f3-dfec-408e-be1b-23164f04fd12",
   "metadata": {},
   "outputs": [],
   "source": [
    "# Set male to 1 and female to 0\n",
    "train_data['Sex'] = train_data['Sex'].map({'male': 1, 'female': 0})"
   ]
  },
  {
   "cell_type": "code",
   "execution_count": 6,
   "id": "0c17935e-9c8c-4fc6-b780-fa75126c6f74",
   "metadata": {},
   "outputs": [
    {
     "name": "stdout",
     "output_type": "stream",
     "text": [
      "Survived       1.000000\n",
      "Fare           0.257307\n",
      "Parch          0.081629\n",
      "PassengerId   -0.005007\n",
      "SibSp         -0.035322\n",
      "Age           -0.077221\n",
      "Pclass        -0.338481\n",
      "Sex           -0.543351\n",
      "Name: Survived, dtype: float64\n"
     ]
    }
   ],
   "source": [
    "# Exclude non-numeric columns by selecting only numeric columns\n",
    "numeric_data = train_data.select_dtypes(include=[np.number])\n",
    "\n",
    "# Compute correlation matrix\n",
    "correlation_matrix = numeric_data.corr()\n",
    "\n",
    "# Display correlation of Survived with other columns\n",
    "survived_correlation = correlation_matrix['Survived'].sort_values(ascending=False)\n",
    "print(survived_correlation)"
   ]
  },
  {
   "cell_type": "markdown",
   "id": "ce0a17d2-e431-4cc0-96f0-cd9297c7542e",
   "metadata": {},
   "source": [
    "# Ensemble Method"
   ]
  },
  {
   "cell_type": "code",
   "execution_count": 10,
   "id": "48d4af78-4e46-45f8-98ff-6388c7185a9a",
   "metadata": {},
   "outputs": [
    {
     "name": "stdout",
     "output_type": "stream",
     "text": [
      "Ensemble accuracy: 0.8268156424581006\n"
     ]
    }
   ],
   "source": [
    "# Select features for model\n",
    "X = train_data[['Fare', 'Pclass', 'Sex']]\n",
    "y = train_data['Survived']\n",
    "\n",
    "# Encode categorical data\n",
    "le = LabelEncoder()\n",
    "X.loc[:, 'Sex'] = le.fit_transform(X['Sex'])\n",
    "\n",
    "# Split dataset into train and test\n",
    "X_train, X_test, y_train, y_test = train_test_split(X, y, test_size=0.2, random_state=42)\n",
    "\n",
    "# Standardize the data\n",
    "scaler = StandardScaler()\n",
    "X_train = scaler.fit_transform(X_train)\n",
    "X_test = scaler.transform(X_test)\n",
    "\n",
    "# Model Instances\n",
    "logreg = LogisticRegression()\n",
    "rf = RandomForestClassifier()\n",
    "svm = SVC(probability=True)\n",
    "xgb = XGBClassifier()\n",
    "\n",
    "# Ensemble - Voting Classifier\n",
    "voting_clf = VotingClassifier(estimators=[\n",
    "    ('lr', logreg), \n",
    "    ('rf', rf), \n",
    "    ('svm', svm),\n",
    "    ('xgb', xgb)],\n",
    "    voting='soft')\n",
    "\n",
    "# Train ensemble\n",
    "voting_clf.fit(X_train, y_train)\n",
    "\n",
    "# Evaluate ensemble\n",
    "accuracy = voting_clf.score(X_test, y_test)\n",
    "print(f'Ensemble accuracy: {accuracy}')"
   ]
  },
  {
   "cell_type": "markdown",
   "metadata": {},
   "source": [
    "# Grid Search"
   ]
  },
  {
   "cell_type": "code",
   "execution_count": 14,
   "metadata": {},
   "outputs": [
    {
     "name": "stdout",
     "output_type": "stream",
     "text": [
      "Best parameters: {'lr__C': 0.1, 'rf__max_depth': 10, 'rf__n_estimators': 200, 'svm__C': 1, 'xgb__learning_rate': 0.01, 'xgb__n_estimators': 200}\n",
      "Best score: 0.8173643258150299\n"
     ]
    }
   ],
   "source": [
    "# Test different hyper parameters to see if model can be optimized further\n",
    "from sklearn.model_selection import GridSearchCV\n",
    "\n",
    "param_grid = {\n",
    "    'lr__C': [0.1, 1, 10],\n",
    "    'rf__n_estimators': [100, 200],\n",
    "    'rf__max_depth': [None, 5, 10],\n",
    "    'svm__C': [0.1, 1, 10],\n",
    "    'xgb__n_estimators': [100, 200],\n",
    "    'xgb__learning_rate': [0.01, 0.1]\n",
    "}\n",
    "\n",
    "# Create GridSearchCV object\n",
    "grid_search = GridSearchCV(estimator=voting_clf, param_grid=param_grid, cv=5, scoring='accuracy')\n",
    "\n",
    "# Fit GridSearchCV\n",
    "grid_search.fit(X_train, y_train)\n",
    "\n",
    "# Best parameters and best score\n",
    "print(\"Best parameters:\", grid_search.best_params_)\n",
    "print(\"Best score:\", grid_search.best_score_)\n"
   ]
  },
  {
   "cell_type": "code",
   "execution_count": null,
   "metadata": {},
   "outputs": [],
   "source": []
  }
 ],
 "metadata": {
  "kernelspec": {
   "display_name": "Python 3 (ipykernel)",
   "language": "python",
   "name": "python3"
  },
  "language_info": {
   "codemirror_mode": {
    "name": "ipython",
    "version": 3
   },
   "file_extension": ".py",
   "mimetype": "text/x-python",
   "name": "python",
   "nbconvert_exporter": "python",
   "pygments_lexer": "ipython3",
   "version": "3.11.5"
  }
 },
 "nbformat": 4,
 "nbformat_minor": 5
}
