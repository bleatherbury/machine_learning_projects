{
 "cells": [
  {
   "cell_type": "code",
   "execution_count": 1,
   "id": "52fbfd6c-ac2e-42e6-80ea-06e8ff45cda6",
   "metadata": {},
   "outputs": [],
   "source": [
    "import pandas as pd\n",
    "import numpy as np\n",
    "from sklearn.model_selection import train_test_split\n",
    "from sklearn.tree import DecisionTreeClassifier\n",
    "from sklearn.metrics import accuracy_score\n",
    "from sklearn.impute import SimpleImputer\n",
    "from sklearn.preprocessing import LabelEncoder\n",
    "\n",
    "# Load training data from train.csv\n",
    "train_data = pd.read_csv('train.csv')"
   ]
  },
  {
   "cell_type": "code",
   "execution_count": 2,
   "id": "52d74265-2393-4865-923a-5bc4bb70ca71",
   "metadata": {},
   "outputs": [],
   "source": [
    "# Set male to 1 and female to 0\n",
    "train_data['Sex'] = train_data['Sex'].map({'male': 1, 'female': 0})"
   ]
  },
  {
   "cell_type": "code",
   "execution_count": 3,
   "id": "44b1462c-944d-4cdb-950f-f4b7524094d1",
   "metadata": {},
   "outputs": [
    {
     "name": "stdout",
     "output_type": "stream",
     "text": [
      "Survived       1.000000\n",
      "Fare           0.257307\n",
      "Parch          0.081629\n",
      "PassengerId   -0.005007\n",
      "SibSp         -0.035322\n",
      "Age           -0.077221\n",
      "Pclass        -0.338481\n",
      "Sex           -0.543351\n",
      "Name: Survived, dtype: float64\n"
     ]
    }
   ],
   "source": [
    "# Exclude non-numeric columns \n",
    "numeric_data = train_data.select_dtypes(include=[np.number])\n",
    "\n",
    "# Compute the correlation matrix\n",
    "correlation_matrix = numeric_data.corr()\n",
    "\n",
    "# Display correlation\n",
    "survived_correlation = correlation_matrix['Survived'].sort_values(ascending=False)\n",
    "print(survived_correlation)"
   ]
  },
  {
   "cell_type": "markdown",
   "id": "0a163c70-74fa-491b-853c-6c7920ded4c7",
   "metadata": {},
   "source": [
    "## Decision Tree"
   ]
  },
  {
   "cell_type": "code",
   "execution_count": 7,
   "id": "cd1def66-0715-453e-961b-a22c03719469",
   "metadata": {},
   "outputs": [
    {
     "data": {
      "text/plain": [
       "0.7821229050279329"
      ]
     },
     "execution_count": 7,
     "metadata": {},
     "output_type": "execute_result"
    }
   ],
   "source": [
    "# Select features for the model\n",
    "X = train_data[['Fare', 'Pclass', 'Sex']]\n",
    "y = train_data['Survived']\n",
    "\n",
    "# Split data into training and test sets\n",
    "X_train, X_test, y_train, y_test = train_test_split(X, y, test_size=0.2, random_state=42)\n",
    "\n",
    "# Exclude non-numeric columns\n",
    "numeric_columns = X_train.select_dtypes(include=[np.number]).columns\n",
    "X_train_numeric = X_train[numeric_columns]\n",
    "X_test_numeric = X_test[numeric_columns]\n",
    "\n",
    "# Apply the imputer to the numeric data\n",
    "imputer = SimpleImputer(strategy='mean')\n",
    "X_train_imputed = imputer.fit_transform(X_train_numeric)\n",
    "X_test_imputed = imputer.transform(X_test_numeric)\n",
    "\n",
    "# Train the decision tree classifier\n",
    "tree_clf = DecisionTreeClassifier(\n",
    "    random_state=42,\n",
    "    max_depth=5,\n",
    "    min_samples_split=10,\n",
    "    max_leaf_nodes=10,\n",
    "    class_weight={0: 20, 1: 80},\n",
    ")\n",
    "tree_clf.fit(X_train_imputed, y_train)\n",
    "\n",
    "# Predict\n",
    "y_pred_tree = tree_clf.predict(X_test_imputed)\n",
    "\n",
    "# Calculate the accuracy\n",
    "accuracy_tree = accuracy_score(y_test, y_pred_tree)\n",
    "\n",
    "# Display the accuracy\n",
    "accuracy_tree"
   ]
  },
  {
   "cell_type": "code",
   "execution_count": null,
   "id": "57e87069-c77b-4f17-bfe0-e0c3d0d9492e",
   "metadata": {},
   "outputs": [],
   "source": []
  },
  {
   "cell_type": "code",
   "execution_count": null,
   "id": "3e266606-d9e8-4d11-a380-0719fde6f24e",
   "metadata": {},
   "outputs": [],
   "source": []
  }
 ],
 "metadata": {
  "kernelspec": {
   "display_name": "Python 3 (ipykernel)",
   "language": "python",
   "name": "python3"
  },
  "language_info": {
   "codemirror_mode": {
    "name": "ipython",
    "version": 3
   },
   "file_extension": ".py",
   "mimetype": "text/x-python",
   "name": "python",
   "nbconvert_exporter": "python",
   "pygments_lexer": "ipython3",
   "version": "3.10.12"
  }
 },
 "nbformat": 4,
 "nbformat_minor": 5
}
