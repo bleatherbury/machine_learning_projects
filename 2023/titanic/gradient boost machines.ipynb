{
 "cells": [
  {
   "cell_type": "code",
   "execution_count": 8,
   "id": "52fbfd6c-ac2e-42e6-80ea-06e8ff45cda6",
   "metadata": {},
   "outputs": [],
   "source": [
    "import xgboost as xgb\n",
    "import pandas as pd\n",
    "import numpy as np\n",
    "from sklearn.model_selection import train_test_split\n",
    "from sklearn.metrics import accuracy_score\n",
    "\n",
    "# Load the training data from train.csv\n",
    "train_data = pd.read_csv('train.csv')"
   ]
  },
  {
   "cell_type": "code",
   "execution_count": 9,
   "metadata": {},
   "outputs": [],
   "source": [
    "# Set male to 1 and female to 0\n",
    "train_data['Sex'] = train_data['Sex'].map({'male': 1, 'female': 0})"
   ]
  },
  {
   "cell_type": "code",
   "execution_count": 10,
   "id": "44b1462c-944d-4cdb-950f-f4b7524094d1",
   "metadata": {},
   "outputs": [
    {
     "name": "stdout",
     "output_type": "stream",
     "text": [
      "Survived       1.000000\n",
      "Fare           0.257307\n",
      "Parch          0.081629\n",
      "PassengerId   -0.005007\n",
      "SibSp         -0.035322\n",
      "Age           -0.077221\n",
      "Pclass        -0.338481\n",
      "Sex           -0.543351\n",
      "Name: Survived, dtype: float64\n"
     ]
    }
   ],
   "source": [
    "# Exclude non-numeric columns by selecting only numeric columns\n",
    "numeric_data = train_data.select_dtypes(include=[np.number])\n",
    "\n",
    "# Compute correlation matrix\n",
    "correlation_matrix = numeric_data.corr()\n",
    "\n",
    "# Display correlation of Survived with other columns\n",
    "survived_correlation = correlation_matrix['Survived'].sort_values(ascending=False)\n",
    "print(survived_correlation)"
   ]
  },
  {
   "cell_type": "markdown",
   "id": "0a163c70-74fa-491b-853c-6c7920ded4c7",
   "metadata": {},
   "source": [
    "## Gradient Boost Machines"
   ]
  },
  {
   "cell_type": "code",
   "execution_count": 74,
   "id": "cd1def66-0715-453e-961b-a22c03719469",
   "metadata": {},
   "outputs": [
    {
     "name": "stdout",
     "output_type": "stream",
     "text": [
      "Accuracy: 0.7318435754189944\n"
     ]
    }
   ],
   "source": [
    "# Select specified features\n",
    "X = train_data[['Fare', 'Pclass', 'Sex']]\n",
    "y = train_data['Survived']\n",
    "\n",
    "# Split data into training and test sets\n",
    "X_train, X_test, y_train, y_test = train_test_split(X, y, test_size=0.2, random_state=42)\n",
    "\n",
    "# Instantiate an XGBoost classifier object\n",
    "gbm_model = xgb.XGBClassifier(\n",
    "    n_estimators=106,\n",
    ")\n",
    "\n",
    "# Train the model\n",
    "gbm_model.fit(X_train, y_train)\n",
    "\n",
    "# Predictions\n",
    "y_pred = gbm_model.predict(X_test)\n",
    "\n",
    "# Calculate accuracy\n",
    "accuracy = accuracy_score(y_test, y_pred)\n",
    "print(\"Accuracy:\", accuracy)"
   ]
  },
  {
   "cell_type": "code",
   "execution_count": null,
   "metadata": {},
   "outputs": [],
   "source": []
  }
 ],
 "metadata": {
  "kernelspec": {
   "display_name": "Python 3 (ipykernel)",
   "language": "python",
   "name": "python3"
  },
  "language_info": {
   "codemirror_mode": {
    "name": "ipython",
    "version": 3
   },
   "file_extension": ".py",
   "mimetype": "text/x-python",
   "name": "python",
   "nbconvert_exporter": "python",
   "pygments_lexer": "ipython3",
   "version": "3.11.5"
  }
 },
 "nbformat": 4,
 "nbformat_minor": 5
}
