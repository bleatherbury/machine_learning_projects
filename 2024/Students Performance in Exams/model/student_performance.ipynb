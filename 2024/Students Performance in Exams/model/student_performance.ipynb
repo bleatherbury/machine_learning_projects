{
 "cells": [
  {
   "cell_type": "code",
   "execution_count": 2,
   "metadata": {},
   "outputs": [
    {
     "name": "stdout",
     "output_type": "stream",
     "text": [
      "   gender race/ethnicity parental level of education         lunch  \\\n",
      "0  female        group B           bachelor's degree      standard   \n",
      "1  female        group C                some college      standard   \n",
      "2  female        group B             master's degree      standard   \n",
      "3    male        group A          associate's degree  free/reduced   \n",
      "4    male        group C                some college      standard   \n",
      "\n",
      "  test preparation course  math score  reading score  writing score  \n",
      "0                    none          72             72             74  \n",
      "1               completed          69             90             88  \n",
      "2                    none          90             95             93  \n",
      "3                    none          47             57             44  \n",
      "4                    none          76             78             75  \n"
     ]
    }
   ],
   "source": [
    "import pandas as pd\n",
    "\n",
    "# Replace the path below with the actual path to your CSV file\n",
    "file_path = 'data/StudentsPerformance.csv'\n",
    "\n",
    "# Load the dataset\n",
    "df = pd.read_csv(file_path)\n",
    "\n",
    "# Display the first few rows of the dataframe\n",
    "print(df.head())"
   ]
  },
  {
   "cell_type": "markdown",
   "metadata": {},
   "source": [
    "# Show the correlation betweens the different data points."
   ]
  },
  {
   "cell_type": "code",
   "execution_count": 3,
   "metadata": {},
   "outputs": [
    {
     "name": "stdout",
     "output_type": "stream",
     "text": [
      "Math Correlations:\n",
      "math score                                        1.000000\n",
      "writing score                                     0.892779\n",
      "lunch_standard                                    0.855783\n",
      "reading score                                     0.850508\n",
      "gender_female                                     0.751590\n",
      "parental level of education_master's degree       0.690380\n",
      "race/ethnicity_group B                            0.598923\n",
      "race/ethnicity_group C                            0.099821\n",
      "parental level of education_some college          0.099821\n",
      "test preparation course_none                      0.064723\n",
      "parental level of education_bachelor's degree     0.043149\n",
      "test preparation course_completed                -0.064723\n",
      "gender_male                                      -0.751590\n",
      "race/ethnicity_group A                           -0.855783\n",
      "parental level of education_associate's degree   -0.855783\n",
      "lunch_free/reduced                               -0.855783\n",
      "Name: math score, dtype: float64\n",
      "\n",
      "\n",
      "Reading Correlations:\n",
      "reading score                                     1.000000\n",
      "writing score                                     0.973316\n",
      "math score                                        0.850508\n",
      "lunch_standard                                    0.793486\n",
      "parental level of education_master's degree       0.615508\n",
      "test preparation course_completed                 0.430114\n",
      "race/ethnicity_group C                            0.339076\n",
      "parental level of education_some college          0.339076\n",
      "race/ethnicity_group B                            0.308802\n",
      "gender_female                                     0.296692\n",
      "parental level of education_bachelor's degree    -0.237304\n",
      "gender_male                                      -0.296692\n",
      "test preparation course_none                     -0.430114\n",
      "race/ethnicity_group A                           -0.793486\n",
      "parental level of education_associate's degree   -0.793486\n",
      "lunch_free/reduced                               -0.793486\n",
      "Name: reading score, dtype: float64\n",
      "\n",
      "\n",
      "Writing Correlations:\n",
      "writing score                                     1.000000\n",
      "reading score                                     0.973316\n",
      "lunch_standard                                    0.902826\n",
      "math score                                        0.892779\n",
      "parental level of education_master's degree       0.533488\n",
      "gender_female                                     0.421231\n",
      "race/ethnicity_group B                            0.416444\n",
      "test preparation course_completed                 0.386925\n",
      "race/ethnicity_group C                            0.320710\n",
      "parental level of education_some college          0.320710\n",
      "parental level of education_bachelor's degree    -0.023450\n",
      "test preparation course_none                     -0.386925\n",
      "gender_male                                      -0.421231\n",
      "race/ethnicity_group A                           -0.902826\n",
      "parental level of education_associate's degree   -0.902826\n",
      "lunch_free/reduced                               -0.902826\n",
      "Name: writing score, dtype: float64\n",
      "\n",
      "\n"
     ]
    }
   ],
   "source": [
    "# Determine the correlation with the different data points versus math, reading, and writing scores.\n",
    "data = {\n",
    "    'gender': ['female', 'male', 'female', 'male', 'female'],\n",
    "    'race/ethnicity': ['group B', 'group C', 'group B', 'group A', 'group C'],\n",
    "    'parental level of education': ['bachelor\\'s degree', 'some college', 'master\\'s degree', 'associate\\'s degree', 'some college'],\n",
    "    'lunch': ['standard', 'standard', 'standard', 'free/reduced', 'standard'],\n",
    "    'test preparation course': ['none', 'completed', 'none', 'none', 'none'],\n",
    "    'math score': [72, 69, 90, 47, 76],\n",
    "    'reading score': [72, 90, 95, 57, 78],\n",
    "    'writing score': [74, 88, 93, 44, 75]\n",
    "}\n",
    "\n",
    "df = pd.DataFrame(data)\n",
    "\n",
    "# Convert categorical variables to dummy variables\n",
    "df_dummies = pd.get_dummies(df)\n",
    "\n",
    "# Calculate the correlation matrix\n",
    "correlation_matrix = df_dummies.corr()\n",
    "\n",
    "# Extract correlations with math, reading, and writing scores\n",
    "math_correlations = correlation_matrix['math score'].sort_values(ascending=False)\n",
    "reading_correlations = correlation_matrix['reading score'].sort_values(ascending=False)\n",
    "writing_correlations = correlation_matrix['writing score'].sort_values(ascending=False)\n",
    "\n",
    "print(\"Math Correlations:\")\n",
    "print(math_correlations)\n",
    "print('\\n') \n",
    "\n",
    "print(\"Reading Correlations:\")\n",
    "print(reading_correlations)\n",
    "print('\\n')\n",
    "\n",
    "print(\"Writing Correlations:\")\n",
    "print(writing_correlations)\n",
    "print('\\n')"
   ]
  },
  {
   "cell_type": "code",
   "execution_count": 4,
   "metadata": {},
   "outputs": [],
   "source": [
    "# Create a graph to show this data visually."
   ]
  },
  {
   "cell_type": "code",
   "execution_count": null,
   "metadata": {},
   "outputs": [],
   "source": []
  }
 ],
 "metadata": {
  "kernelspec": {
   "display_name": "base",
   "language": "python",
   "name": "python3"
  },
  "language_info": {
   "codemirror_mode": {
    "name": "ipython",
    "version": 3
   },
   "file_extension": ".py",
   "mimetype": "text/x-python",
   "name": "python",
   "nbconvert_exporter": "python",
   "pygments_lexer": "ipython3",
   "version": "3.11.5"
  }
 },
 "nbformat": 4,
 "nbformat_minor": 2
}
